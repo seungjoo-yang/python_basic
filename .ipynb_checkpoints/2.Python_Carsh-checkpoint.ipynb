{
 "cells": [
  {
   "cell_type": "markdown",
   "id": "6a94aca7",
   "metadata": {},
   "source": [
    "## Python Crash Course"
   ]
  },
  {
   "cell_type": "markdown",
   "id": "1f0a2f66",
   "metadata": {},
   "source": [
    "### - Machine Learning전, Python 기본기 연습"
   ]
  },
  {
   "cell_type": "markdown",
   "id": "4bca37a8",
   "metadata": {},
   "source": [
    "## part1"
   ]
  },
  {
   "cell_type": "code",
   "execution_count": 1,
   "id": "bab63795",
   "metadata": {},
   "outputs": [
    {
     "data": {
      "text/plain": [
       "int"
      ]
     },
     "execution_count": 1,
     "metadata": {},
     "output_type": "execute_result"
    }
   ],
   "source": [
    "type(1)"
   ]
  },
  {
   "cell_type": "code",
   "execution_count": 2,
   "id": "0276a4b0",
   "metadata": {},
   "outputs": [
    {
     "data": {
      "text/plain": [
       "float"
      ]
     },
     "execution_count": 2,
     "metadata": {},
     "output_type": "execute_result"
    }
   ],
   "source": [
    "type(1.0)"
   ]
  },
  {
   "cell_type": "code",
   "execution_count": 3,
   "id": "e2b2b996",
   "metadata": {},
   "outputs": [
    {
     "data": {
      "text/plain": [
       "3"
      ]
     },
     "execution_count": 3,
     "metadata": {},
     "output_type": "execute_result"
    }
   ],
   "source": [
    "1+2"
   ]
  },
  {
   "cell_type": "code",
   "execution_count": 4,
   "id": "58164650",
   "metadata": {},
   "outputs": [
    {
     "data": {
      "text/plain": [
       "6"
      ]
     },
     "execution_count": 4,
     "metadata": {},
     "output_type": "execute_result"
    }
   ],
   "source": [
    "2*3"
   ]
  },
  {
   "cell_type": "code",
   "execution_count": 5,
   "id": "797fbe25",
   "metadata": {},
   "outputs": [
    {
     "data": {
      "text/plain": [
       "0.5"
      ]
     },
     "execution_count": 5,
     "metadata": {},
     "output_type": "execute_result"
    }
   ],
   "source": [
    "1/2"
   ]
  },
  {
   "cell_type": "code",
   "execution_count": 8,
   "id": "0096064d",
   "metadata": {},
   "outputs": [
    {
     "data": {
      "text/plain": [
       "0"
      ]
     },
     "execution_count": 8,
     "metadata": {},
     "output_type": "execute_result"
    }
   ],
   "source": [
    "4 % 2  # 4를 2로 나눈 뒤 나머지는 0"
   ]
  },
  {
   "cell_type": "code",
   "execution_count": 9,
   "id": "60318a6c",
   "metadata": {},
   "outputs": [
    {
     "data": {
      "text/plain": [
       "1"
      ]
     },
     "execution_count": 9,
     "metadata": {},
     "output_type": "execute_result"
    }
   ],
   "source": [
    "5 % 2  # 5를 2로 나눈뒤 나머지는 1"
   ]
  },
  {
   "cell_type": "code",
   "execution_count": 10,
   "id": "abe66c74",
   "metadata": {},
   "outputs": [
    {
     "data": {
      "text/plain": [
       "'string'"
      ]
     },
     "execution_count": 10,
     "metadata": {},
     "output_type": "execute_result"
    }
   ],
   "source": [
    "'string'"
   ]
  },
  {
   "cell_type": "code",
   "execution_count": 11,
   "id": "64bab53e",
   "metadata": {},
   "outputs": [
    {
     "data": {
      "text/plain": [
       "'double'"
      ]
     },
     "execution_count": 11,
     "metadata": {},
     "output_type": "execute_result"
    }
   ],
   "source": [
    "\"double\""
   ]
  },
  {
   "cell_type": "code",
   "execution_count": 13,
   "id": "27ac2c7b",
   "metadata": {},
   "outputs": [
    {
     "name": "stdout",
     "output_type": "stream",
     "text": [
      "My name is Francis, My number is 101010\n"
     ]
    }
   ],
   "source": [
    "print('My name is {}, My number is {}'.format('Francis', '101010'))"
   ]
  },
  {
   "cell_type": "code",
   "execution_count": 15,
   "id": "6bb9074a",
   "metadata": {},
   "outputs": [
    {
     "name": "stdout",
     "output_type": "stream",
     "text": [
      "first: XXX, Second: YYYY\n"
     ]
    }
   ],
   "source": [
    "print('first: {x}, Second: {y}'.format(x='XXX', y=\"YYYY\"))  # 빈칸에 변수를 넣을 경우, format이후 순서에 상관없이 변수에 데이터 입력 가능"
   ]
  },
  {
   "cell_type": "code",
   "execution_count": 16,
   "id": "20715618",
   "metadata": {},
   "outputs": [],
   "source": [
    "mylist = ['a', 'b', 'c']"
   ]
  },
  {
   "cell_type": "code",
   "execution_count": 17,
   "id": "b34a29f1",
   "metadata": {},
   "outputs": [
    {
     "data": {
      "text/plain": [
       "'a'"
      ]
     },
     "execution_count": 17,
     "metadata": {},
     "output_type": "execute_result"
    }
   ],
   "source": [
    "mylist[0]"
   ]
  },
  {
   "cell_type": "code",
   "execution_count": 18,
   "id": "479a22b8",
   "metadata": {},
   "outputs": [],
   "source": [
    "mylist.append('d')"
   ]
  },
  {
   "cell_type": "code",
   "execution_count": 19,
   "id": "9d0410d7",
   "metadata": {},
   "outputs": [
    {
     "data": {
      "text/plain": [
       "['a', 'b', 'c', 'd']"
      ]
     },
     "execution_count": 19,
     "metadata": {},
     "output_type": "execute_result"
    }
   ],
   "source": [
    "mylist"
   ]
  },
  {
   "cell_type": "code",
   "execution_count": 20,
   "id": "7a22511b",
   "metadata": {},
   "outputs": [],
   "source": [
    "mylist.append([100,200])  # 중복된 리스트"
   ]
  },
  {
   "cell_type": "code",
   "execution_count": 21,
   "id": "40270bf0",
   "metadata": {},
   "outputs": [
    {
     "data": {
      "text/plain": [
       "['a', 'b', 'c', 'd', [100, 200]]"
      ]
     },
     "execution_count": 21,
     "metadata": {},
     "output_type": "execute_result"
    }
   ],
   "source": [
    "mylist"
   ]
  },
  {
   "cell_type": "code",
   "execution_count": 23,
   "id": "8bd0826f",
   "metadata": {},
   "outputs": [
    {
     "data": {
      "text/plain": [
       "200"
      ]
     },
     "execution_count": 23,
     "metadata": {},
     "output_type": "execute_result"
    }
   ],
   "source": [
    "mylist[-1][1]  # 중보된 리스트의 특정값도, 인덱싱으로 불러올 수 있음"
   ]
  },
  {
   "cell_type": "code",
   "execution_count": 25,
   "id": "27ae5689",
   "metadata": {},
   "outputs": [],
   "source": [
    "dic = {'key1':'value1', 'key2': 'value2'}"
   ]
  },
  {
   "cell_type": "code",
   "execution_count": 30,
   "id": "593355a8",
   "metadata": {},
   "outputs": [
    {
     "data": {
      "text/plain": [
       "'value1'"
      ]
     },
     "execution_count": 30,
     "metadata": {},
     "output_type": "execute_result"
    }
   ],
   "source": [
    "dic['key1']  # key 값으로 value값 불러오기"
   ]
  },
  {
   "cell_type": "markdown",
   "id": "4506e489",
   "metadata": {},
   "source": [
    "## part 2"
   ]
  },
  {
   "cell_type": "code",
   "execution_count": 1,
   "id": "21bfe0e8",
   "metadata": {},
   "outputs": [
    {
     "data": {
      "text/plain": [
       "False"
      ]
     },
     "execution_count": 1,
     "metadata": {},
     "output_type": "execute_result"
    }
   ],
   "source": [
    "1 > 2"
   ]
  },
  {
   "cell_type": "code",
   "execution_count": 2,
   "id": "96424780",
   "metadata": {},
   "outputs": [
    {
     "data": {
      "text/plain": [
       "True"
      ]
     },
     "execution_count": 2,
     "metadata": {},
     "output_type": "execute_result"
    }
   ],
   "source": [
    "1 < 5"
   ]
  },
  {
   "cell_type": "code",
   "execution_count": 3,
   "id": "4f0b1baa",
   "metadata": {},
   "outputs": [
    {
     "data": {
      "text/plain": [
       "False"
      ]
     },
     "execution_count": 3,
     "metadata": {},
     "output_type": "execute_result"
    }
   ],
   "source": [
    "1 >= 4"
   ]
  },
  {
   "cell_type": "code",
   "execution_count": 4,
   "id": "7c0da259",
   "metadata": {},
   "outputs": [
    {
     "data": {
      "text/plain": [
       "True"
      ]
     },
     "execution_count": 4,
     "metadata": {},
     "output_type": "execute_result"
    }
   ],
   "source": [
    "1 ==1"
   ]
  },
  {
   "cell_type": "code",
   "execution_count": 5,
   "id": "eeb53bb9",
   "metadata": {},
   "outputs": [
    {
     "data": {
      "text/plain": [
       "True"
      ]
     },
     "execution_count": 5,
     "metadata": {},
     "output_type": "execute_result"
    }
   ],
   "source": [
    "'a' =='a'"
   ]
  },
  {
   "cell_type": "code",
   "execution_count": 6,
   "id": "1229074b",
   "metadata": {},
   "outputs": [
    {
     "data": {
      "text/plain": [
       "False"
      ]
     },
     "execution_count": 6,
     "metadata": {},
     "output_type": "execute_result"
    }
   ],
   "source": [
    "'A' =='a'"
   ]
  },
  {
   "cell_type": "code",
   "execution_count": 7,
   "id": "9c0553f5",
   "metadata": {},
   "outputs": [
    {
     "data": {
      "text/plain": [
       "True"
      ]
     },
     "execution_count": 7,
     "metadata": {},
     "output_type": "execute_result"
    }
   ],
   "source": [
    "1!=2"
   ]
  },
  {
   "cell_type": "code",
   "execution_count": 8,
   "id": "523bf676",
   "metadata": {},
   "outputs": [
    {
     "name": "stdout",
     "output_type": "stream",
     "text": [
      "yea!\n"
     ]
    }
   ],
   "source": [
    "if 1==1: \n",
    "    print(\"yea!\")"
   ]
  },
  {
   "cell_type": "code",
   "execution_count": 12,
   "id": "80ce1e3e",
   "metadata": {},
   "outputs": [
    {
     "name": "stdout",
     "output_type": "stream",
     "text": [
      "second condition is True\n"
     ]
    }
   ],
   "source": [
    "if 1==2:\n",
    "    print(\"worked!\")\n",
    "elif 3==3:\n",
    "    print(\"second condition is True\")\n",
    "else:\n",
    "    print(\"get out!\")"
   ]
  },
  {
   "cell_type": "code",
   "execution_count": 13,
   "id": "642c7227",
   "metadata": {},
   "outputs": [],
   "source": [
    "seq = [1,2,3,4,5]"
   ]
  },
  {
   "cell_type": "code",
   "execution_count": 14,
   "id": "d8f715dd",
   "metadata": {},
   "outputs": [
    {
     "name": "stdout",
     "output_type": "stream",
     "text": [
      "1\n",
      "2\n",
      "3\n",
      "4\n",
      "5\n"
     ]
    }
   ],
   "source": [
    "for item in seq:\n",
    "    print(item)"
   ]
  },
  {
   "cell_type": "code",
   "execution_count": 16,
   "id": "10c831fa",
   "metadata": {},
   "outputs": [
    {
     "name": "stdout",
     "output_type": "stream",
     "text": [
      "2\n",
      "4\n",
      "6\n",
      "8\n",
      "10\n"
     ]
    }
   ],
   "source": [
    "for item in seq:\n",
    "    print(item+item)  # 숫자간 연산도 가능"
   ]
  },
  {
   "cell_type": "code",
   "execution_count": 18,
   "id": "61677f59",
   "metadata": {},
   "outputs": [
    {
     "name": "stdout",
     "output_type": "stream",
     "text": [
      "i is 1\n",
      "i is 2\n",
      "i is 3\n",
      "i is 4\n"
     ]
    }
   ],
   "source": [
    "i = 1\n",
    "while i < 5:\n",
    "    print(\"i is {}\".format(i))\n",
    "    i+=1"
   ]
  },
  {
   "cell_type": "code",
   "execution_count": 21,
   "id": "899fb61f",
   "metadata": {},
   "outputs": [
    {
     "name": "stdout",
     "output_type": "stream",
     "text": [
      "x and y are the same!\n"
     ]
    }
   ],
   "source": [
    "x =[1,2,3,4,5]\n",
    "y = list(range(1,6))  # range로 리스트 만드는 법\n",
    "if x == y:\n",
    "    print(\"x and y are the same!\")"
   ]
  },
  {
   "cell_type": "markdown",
   "id": "1e16bdae",
   "metadata": {},
   "source": [
    "#### list comprehension"
   ]
  },
  {
   "cell_type": "code",
   "execution_count": 22,
   "id": "ae29a5c0",
   "metadata": {},
   "outputs": [],
   "source": [
    "x = [1,2,3,4,5]\n",
    "out = []"
   ]
  },
  {
   "cell_type": "code",
   "execution_count": 23,
   "id": "6096677d",
   "metadata": {},
   "outputs": [
    {
     "name": "stdout",
     "output_type": "stream",
     "text": [
      "[1, 4, 9, 16, 25]\n"
     ]
    }
   ],
   "source": [
    "for num in x:\n",
    "    out.append(num ** 2)  # x리스트에 있는 값들을 하나씩 제곱하여 out이라는 리스트 변수에 추가\n",
    "\n",
    "print(out)"
   ]
  },
  {
   "cell_type": "code",
   "execution_count": 26,
   "id": "a9de531d",
   "metadata": {},
   "outputs": [
    {
     "name": "stdout",
     "output_type": "stream",
     "text": [
      "[1, 4, 9, 16, 25]\n"
     ]
    }
   ],
   "source": [
    "# list comprehension으로 만들기\n",
    "out = [num **2 for num in x]\n",
    "print(out)"
   ]
  },
  {
   "cell_type": "markdown",
   "id": "b08f5e5b",
   "metadata": {},
   "source": [
    "## part3"
   ]
  },
  {
   "cell_type": "markdown",
   "id": "bc2ad830",
   "metadata": {},
   "source": [
    "### function definition"
   ]
  },
  {
   "cell_type": "code",
   "execution_count": 27,
   "id": "10d34094",
   "metadata": {},
   "outputs": [],
   "source": [
    "def my_func():\n",
    "    print('hello')"
   ]
  },
  {
   "cell_type": "code",
   "execution_count": 28,
   "id": "ffbb5552",
   "metadata": {},
   "outputs": [
    {
     "name": "stdout",
     "output_type": "stream",
     "text": [
      "hello\n"
     ]
    }
   ],
   "source": [
    "my_func()"
   ]
  },
  {
   "cell_type": "code",
   "execution_count": 29,
   "id": "ffdbef35",
   "metadata": {},
   "outputs": [
    {
     "data": {
      "text/plain": [
       "function"
      ]
     },
     "execution_count": 29,
     "metadata": {},
     "output_type": "execute_result"
    }
   ],
   "source": [
    "type(my_func)"
   ]
  },
  {
   "cell_type": "code",
   "execution_count": 33,
   "id": "dfcd701a",
   "metadata": {},
   "outputs": [],
   "source": [
    "def my_func(name):\n",
    "    print('hello ' + name)"
   ]
  },
  {
   "cell_type": "code",
   "execution_count": 34,
   "id": "fefdb940",
   "metadata": {},
   "outputs": [
    {
     "ename": "TypeError",
     "evalue": "my_func() missing 1 required positional argument: 'name'",
     "output_type": "error",
     "traceback": [
      "\u001b[1;31m---------------------------------------------------------------------------\u001b[0m",
      "\u001b[1;31mTypeError\u001b[0m                                 Traceback (most recent call last)",
      "Cell \u001b[1;32mIn[34], line 1\u001b[0m\n\u001b[1;32m----> 1\u001b[0m \u001b[43mmy_func\u001b[49m\u001b[43m(\u001b[49m\u001b[43m)\u001b[49m\n",
      "\u001b[1;31mTypeError\u001b[0m: my_func() missing 1 required positional argument: 'name'"
     ]
    }
   ],
   "source": [
    "my_func()  # 변수 name이 입력되지 않아 오류 발생"
   ]
  },
  {
   "cell_type": "code",
   "execution_count": 36,
   "id": "dc61f25f",
   "metadata": {},
   "outputs": [
    {
     "name": "stdout",
     "output_type": "stream",
     "text": [
      "hello Jose\n"
     ]
    }
   ],
   "source": [
    "my_func('Jose')  # 정상 작동"
   ]
  },
  {
   "cell_type": "code",
   "execution_count": 37,
   "id": "5c3bea97",
   "metadata": {},
   "outputs": [],
   "source": [
    "def my_func(name='Nothing'):  # name에 기본값을 설정하여, 변수가 없어도 실행되도록 함\n",
    "    print('hello ' + name)"
   ]
  },
  {
   "cell_type": "code",
   "execution_count": 39,
   "id": "fd8320ec",
   "metadata": {},
   "outputs": [
    {
     "name": "stdout",
     "output_type": "stream",
     "text": [
      "hello Jose\n"
     ]
    }
   ],
   "source": [
    "my_func('Jose')  # hello jose로 정상작동"
   ]
  },
  {
   "cell_type": "code",
   "execution_count": 41,
   "id": "53852328",
   "metadata": {},
   "outputs": [
    {
     "name": "stdout",
     "output_type": "stream",
     "text": [
      "hello Nothing\n"
     ]
    }
   ],
   "source": [
    "my_func()  # 필수값임에도 입력을 안해도 디폴트 값이 들어가면서 작동"
   ]
  },
  {
   "cell_type": "code",
   "execution_count": 44,
   "id": "7643903c",
   "metadata": {},
   "outputs": [],
   "source": [
    "def my_func(name='Nothing'):  # 콤마 3개를 활용해서 함수의 기능을 설명하며 저 내용은 docstring에서 확인 가능하게 됨\n",
    "    '''\n",
    "    This function give you the hello message with the name\n",
    "    if you type nothing with required argument position, name would be 'Nothing'\n",
    "    '''\n",
    "    print('hello ' + name)"
   ]
  },
  {
   "cell_type": "code",
   "execution_count": 45,
   "id": "89b51b2b",
   "metadata": {},
   "outputs": [
    {
     "name": "stdout",
     "output_type": "stream",
     "text": [
      "hello Nothing\n"
     ]
    }
   ],
   "source": [
    "my_func()"
   ]
  },
  {
   "cell_type": "code",
   "execution_count": 1,
   "id": "f1e54d47",
   "metadata": {},
   "outputs": [],
   "source": [
    "def square(x):\n",
    "    return x ** 2  # return을 하게되면, 함수의 반환값을 변수에 저장하여 사용할 수 있음. "
   ]
  },
  {
   "cell_type": "code",
   "execution_count": 2,
   "id": "ff8eb1ec",
   "metadata": {},
   "outputs": [
    {
     "data": {
      "text/plain": [
       "1089"
      ]
     },
     "execution_count": 2,
     "metadata": {},
     "output_type": "execute_result"
    }
   ],
   "source": [
    "square(33)"
   ]
  },
  {
   "cell_type": "code",
   "execution_count": 3,
   "id": "8f5ecd25",
   "metadata": {},
   "outputs": [
    {
     "data": {
      "text/plain": [
       "<function __main__.<lambda>(var)>"
      ]
     },
     "execution_count": 3,
     "metadata": {},
     "output_type": "execute_result"
    }
   ],
   "source": [
    "lambda var: var*2"
   ]
  },
  {
   "cell_type": "code",
   "execution_count": 4,
   "id": "4593b13c",
   "metadata": {},
   "outputs": [],
   "source": [
    "st = 'hllo my name is Sam'"
   ]
  },
  {
   "cell_type": "code",
   "execution_count": 5,
   "id": "bdaed613",
   "metadata": {},
   "outputs": [
    {
     "data": {
      "text/plain": [
       "'hllo my name is sam'"
      ]
     },
     "execution_count": 5,
     "metadata": {},
     "output_type": "execute_result"
    }
   ],
   "source": [
    "st.lower()"
   ]
  },
  {
   "cell_type": "code",
   "execution_count": 6,
   "id": "fc368bab",
   "metadata": {},
   "outputs": [
    {
     "data": {
      "text/plain": [
       "['hllo', 'my', 'name', 'is', 'Sam']"
      ]
     },
     "execution_count": 6,
     "metadata": {},
     "output_type": "execute_result"
    }
   ],
   "source": [
    "st.split()"
   ]
  },
  {
   "cell_type": "code",
   "execution_count": 7,
   "id": "1e73dbb8",
   "metadata": {},
   "outputs": [],
   "source": [
    "tweet = 'Hello #sports'"
   ]
  },
  {
   "cell_type": "code",
   "execution_count": 8,
   "id": "3fe6bb55",
   "metadata": {},
   "outputs": [
    {
     "data": {
      "text/plain": [
       "['Hello', '#sports']"
      ]
     },
     "execution_count": 8,
     "metadata": {},
     "output_type": "execute_result"
    }
   ],
   "source": [
    "tweet.split()"
   ]
  },
  {
   "cell_type": "code",
   "execution_count": 12,
   "id": "f8899158",
   "metadata": {},
   "outputs": [
    {
     "data": {
      "text/plain": [
       "'sports'"
      ]
     },
     "execution_count": 12,
     "metadata": {},
     "output_type": "execute_result"
    }
   ],
   "source": [
    "tweet.split('#')[-1]"
   ]
  },
  {
   "cell_type": "code",
   "execution_count": 13,
   "id": "db47056d",
   "metadata": {},
   "outputs": [],
   "source": [
    "d ={\n",
    "    'k1':'v1',\n",
    "    'k2':'v2'\n",
    "}"
   ]
  },
  {
   "cell_type": "code",
   "execution_count": 14,
   "id": "28be71d8",
   "metadata": {},
   "outputs": [
    {
     "data": {
      "text/plain": [
       "dict_keys(['k1', 'k2'])"
      ]
     },
     "execution_count": 14,
     "metadata": {},
     "output_type": "execute_result"
    }
   ],
   "source": [
    "d.keys()  # dict의 키값을 보여줌"
   ]
  },
  {
   "cell_type": "code",
   "execution_count": 15,
   "id": "53e331ed",
   "metadata": {},
   "outputs": [
    {
     "data": {
      "text/plain": [
       "dict_items([('k1', 'v1'), ('k2', 'v2')])"
      ]
     },
     "execution_count": 15,
     "metadata": {},
     "output_type": "execute_result"
    }
   ],
   "source": [
    "d.items()  # dict의 키-밸류를 모두 보여줌"
   ]
  },
  {
   "cell_type": "code",
   "execution_count": 17,
   "id": "a99b40f6",
   "metadata": {},
   "outputs": [
    {
     "data": {
      "text/plain": [
       "dict_values(['v1', 'v2'])"
      ]
     },
     "execution_count": 17,
     "metadata": {},
     "output_type": "execute_result"
    }
   ],
   "source": [
    "d.values()  # dict의 밸류 값만 보여줌"
   ]
  },
  {
   "cell_type": "code",
   "execution_count": 18,
   "id": "cd420e48",
   "metadata": {},
   "outputs": [],
   "source": [
    "mylist = [1,2,3]"
   ]
  },
  {
   "cell_type": "code",
   "execution_count": 19,
   "id": "dee4b544",
   "metadata": {},
   "outputs": [
    {
     "data": {
      "text/plain": [
       "3"
      ]
     },
     "execution_count": 19,
     "metadata": {},
     "output_type": "execute_result"
    }
   ],
   "source": [
    "mylist.pop()"
   ]
  },
  {
   "cell_type": "code",
   "execution_count": 20,
   "id": "f202a124",
   "metadata": {},
   "outputs": [
    {
     "data": {
      "text/plain": [
       "[1, 2]"
      ]
     },
     "execution_count": 20,
     "metadata": {},
     "output_type": "execute_result"
    }
   ],
   "source": [
    "mylist"
   ]
  },
  {
   "cell_type": "code",
   "execution_count": 21,
   "id": "747854de",
   "metadata": {},
   "outputs": [],
   "source": [
    "mylist = [1,2,3]"
   ]
  },
  {
   "cell_type": "code",
   "execution_count": 22,
   "id": "7018e543",
   "metadata": {},
   "outputs": [],
   "source": [
    "firts_value = mylist.pop(0)"
   ]
  },
  {
   "cell_type": "code",
   "execution_count": 23,
   "id": "7cc8c926",
   "metadata": {},
   "outputs": [
    {
     "data": {
      "text/plain": [
       "[2, 3]"
      ]
     },
     "execution_count": 23,
     "metadata": {},
     "output_type": "execute_result"
    }
   ],
   "source": [
    "mylist"
   ]
  },
  {
   "cell_type": "code",
   "execution_count": 24,
   "id": "ce29a54b",
   "metadata": {},
   "outputs": [
    {
     "data": {
      "text/plain": [
       "1"
      ]
     },
     "execution_count": 24,
     "metadata": {},
     "output_type": "execute_result"
    }
   ],
   "source": [
    "firts_value"
   ]
  },
  {
   "cell_type": "code",
   "execution_count": null,
   "id": "1f14410f",
   "metadata": {},
   "outputs": [],
   "source": []
  }
 ],
 "metadata": {
  "kernelspec": {
   "display_name": "Python 3 (ipykernel)",
   "language": "python",
   "name": "python3"
  },
  "language_info": {
   "codemirror_mode": {
    "name": "ipython",
    "version": 3
   },
   "file_extension": ".py",
   "mimetype": "text/x-python",
   "name": "python",
   "nbconvert_exporter": "python",
   "pygments_lexer": "ipython3",
   "version": "3.8.19"
  }
 },
 "nbformat": 4,
 "nbformat_minor": 5
}
